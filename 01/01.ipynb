{
 "cells": [
  {
   "cell_type": "markdown",
   "metadata": {},
   "source": [
    "# Numpy"
   ]
  },
  {
   "cell_type": "code",
   "execution_count": 24,
   "metadata": {},
   "outputs": [
    {
     "name": "stdout",
     "output_type": "stream",
     "text": [
      "Requirement already satisfied: numpy in e:\\work\\neco\\ai\\venv\\lib\\site-packages (1.25.2)\n"
     ]
    },
    {
     "name": "stderr",
     "output_type": "stream",
     "text": [
      "\n",
      "[notice] A new release of pip is available: 23.0.1 -> 23.2.1\n",
      "[notice] To update, run: python.exe -m pip install --upgrade pip\n"
     ]
    }
   ],
   "source": [
    "!pip install numpy"
   ]
  },
  {
   "cell_type": "code",
   "execution_count": 9,
   "metadata": {},
   "outputs": [
    {
     "data": {
      "text/plain": [
       "array([0.94613799, 0.34743298, 0.84359918, 0.69048118, 0.62895286,\n",
       "       0.0321444 , 0.5849115 , 0.40570317, 0.61739368, 0.90115747])"
      ]
     },
     "execution_count": 9,
     "metadata": {},
     "output_type": "execute_result"
    }
   ],
   "source": [
    "# Create a numpy array of random float numbers.\n",
    "\n",
    "import numpy as np\n",
    "\n",
    "array_size = 10\n",
    "random_float_array = np.random.rand(array_size)\n",
    "\n",
    "random_float_array"
   ]
  },
  {
   "cell_type": "code",
   "execution_count": 10,
   "metadata": {},
   "outputs": [
    {
     "data": {
      "text/plain": [
       "array([1, 0, 1, 1, 1, 0, 1, 0, 1, 1])"
      ]
     },
     "execution_count": 10,
     "metadata": {},
     "output_type": "execute_result"
    }
   ],
   "source": [
    "# Convert 1st question result to ‘int’ datatype.\n",
    "r  -unded_int_array = np.round(random_float_array).astype(int)\n",
    "rounded_int_array"
   ]
  },
  {
   "cell_type": "code",
   "execution_count": 11,
   "metadata": {},
   "outputs": [
    {
     "data": {
      "text/plain": [
       "array([1, 1, 0, 1, 1, 1, 1, 0, 0, 1])"
      ]
     },
     "execution_count": 11,
     "metadata": {},
     "output_type": "execute_result"
    }
   ],
   "source": [
    "# Create a numpy array of random 0 and 1.\n",
    "import numpy as np\n",
    "\n",
    "array_size = 10\n",
    "\n",
    "random_binary_array = np.random.randint(2, size=array_size)\n",
    "\n",
    "random_binary_array"
   ]
  },
  {
   "cell_type": "code",
   "execution_count": 13,
   "metadata": {},
   "outputs": [
    {
     "data": {
      "text/plain": [
       "array([ True,  True, False,  True,  True,  True,  True, False, False,\n",
       "        True])"
      ]
     },
     "execution_count": 13,
     "metadata": {},
     "output_type": "execute_result"
    }
   ],
   "source": [
    "# Convert 3rd question result to a Boolean numpy array\n",
    "boolean_array = np.array(random_binary_array, dtype=bool)\n",
    "boolean_array"
   ]
  },
  {
   "cell_type": "code",
   "execution_count": 15,
   "metadata": {},
   "outputs": [
    {
     "data": {
      "text/plain": [
       "array([[ 1,  2],\n",
       "       [ 3,  4],\n",
       "       [ 5,  6],\n",
       "       [ 7,  8],\n",
       "       [ 9, 10],\n",
       "       [10, 11]])"
      ]
     },
     "execution_count": 15,
     "metadata": {},
     "output_type": "execute_result"
    }
   ],
   "source": [
    "# Stack given numpy arrays vertically. a1 = np.array([[1,2], [3,4], [5,6]]) a2 .([[7,8], [9,10], [10,11]])\n",
    "\n",
    "a1 = np.array([[1, 2], [3, 4], [5, 6]])\n",
    "a2 = np.array([[7, 8], [9, 10], [10, 11]])\n",
    "\n",
    "# Stack 'a1' and 'a2' vertically\n",
    "stacked_array = np.vstack((a1, a2))\n",
    "\n",
    "stacked_array"
   ]
  },
  {
   "cell_type": "code",
   "execution_count": 16,
   "metadata": {},
   "outputs": [
    {
     "name": "stdout",
     "output_type": "stream",
     "text": [
      "(array([0, 3, 4], dtype=int64),)\n"
     ]
    }
   ],
   "source": [
    "# Print the indexes that theses tow numpy arrays elements are equal:\n",
    "# a = np.array([1,2,3,4,5])\n",
    "# b = np.array([1,3,2,4,5])\n",
    "\n",
    "a = np.array([1, 2, 3, 4, 5])\n",
    "b = np.array([1, 3, 2, 4, 5])\n",
    "\n",
    "equal_indices = np.where(a == b)\n",
    "\n",
    "print(equal_indices)"
   ]
  },
  {
   "cell_type": "code",
   "execution_count": 17,
   "metadata": {},
   "outputs": [
    {
     "name": "stdout",
     "output_type": "stream",
     "text": [
      "[[5 5 5 5 5 5 5]\n",
      " [5 5 5 5 5 5 5]\n",
      " [5 5 5 5 5 5 5]\n",
      " [5 5 5 5 5 5 5]]\n"
     ]
    }
   ],
   "source": [
    "# Generate a numpy array of ‘5’ with dimension of 4x7\n",
    "\n",
    "rows = 4\n",
    "cols = 7\n",
    "\n",
    "filled_array = np.full((rows, cols), 5)\n",
    "\n",
    "print(filled_array)"
   ]
  },
  {
   "cell_type": "code",
   "execution_count": 18,
   "metadata": {},
   "outputs": [
    {
     "name": "stdout",
     "output_type": "stream",
     "text": [
      "[[1 2 3]\n",
      " [4 5 6]\n",
      " [1 2 3]\n",
      " [4 5 6]\n",
      " [1 2 3]\n",
      " [4 5 6]\n",
      " [1 2 3]\n",
      " [4 5 6]\n",
      " [1 2 3]\n",
      " [4 5 6]\n",
      " [1 2 3]\n",
      " [4 5 6]\n",
      " [1 2 3]\n",
      " [4 5 6]\n",
      " [1 2 3]\n",
      " [4 5 6]\n",
      " [1 2 3]\n",
      " [4 5 6]\n",
      " [1 2 3]\n",
      " [4 5 6]]\n"
     ]
    }
   ],
   "source": [
    "# Generate a numpy array that is 10 repeatation of the giving array.\n",
    "# a = np.array([[1,2,3], [4,5,6]])\n",
    "\n",
    "a = np.array([[1, 2, 3], [4, 5, 6]])\n",
    "\n",
    "repeated_array = np.tile(a, (10, 1))\n",
    "\n",
    "print(repeated_array)"
   ]
  },
  {
   "cell_type": "code",
   "execution_count": 19,
   "metadata": {},
   "outputs": [
    {
     "name": "stdout",
     "output_type": "stream",
     "text": [
      "[[1 4 1 4 1 4 1 4 1 4 1 4 1 4 1 4 1 4 1 4]\n",
      " [2 5 2 5 2 5 2 5 2 5 2 5 2 5 2 5 2 5 2 5]\n",
      " [3 6 3 6 3 6 3 6 3 6 3 6 3 6 3 6 3 6 3 6]]\n"
     ]
    }
   ],
   "source": [
    "# Transpose 8th question result.\n",
    "\n",
    "transposed_array = np.transpose(repeated_array)\n",
    "\n",
    "print(transposed_array)"
   ]
  },
  {
   "cell_type": "markdown",
   "metadata": {},
   "source": [
    "# Pandas"
   ]
  },
  {
   "cell_type": "code",
   "execution_count": 23,
   "metadata": {},
   "outputs": [
    {
     "name": "stdout",
     "output_type": "stream",
     "text": [
      "Collecting pandas\n",
      "  Using cached pandas-2.0.3-cp310-cp310-win_amd64.whl (10.7 MB)\n",
      "Collecting tzdata>=2022.1\n",
      "  Using cached tzdata-2023.3-py2.py3-none-any.whl (341 kB)\n",
      "Requirement already satisfied: python-dateutil>=2.8.2 in e:\\work\\neco\\ai\\venv\\lib\\site-packages (from pandas) (2.8.2)\n",
      "Requirement already satisfied: numpy>=1.21.0 in e:\\work\\neco\\ai\\venv\\lib\\site-packages (from pandas) (1.25.2)\n",
      "Collecting pytz>=2020.1\n",
      "  Using cached pytz-2023.3-py2.py3-none-any.whl (502 kB)\n",
      "Requirement already satisfied: six>=1.5 in e:\\work\\neco\\ai\\venv\\lib\\site-packages (from python-dateutil>=2.8.2->pandas) (1.16.0)\n",
      "Installing collected packages: pytz, tzdata, pandas\n",
      "Successfully installed pandas-2.0.3 pytz-2023.3 tzdata-2023.3\n"
     ]
    },
    {
     "name": "stderr",
     "output_type": "stream",
     "text": [
      "\n",
      "[notice] A new release of pip is available: 23.0.1 -> 23.2.1\n",
      "[notice] To update, run: python.exe -m pip install --upgrade pip\n"
     ]
    }
   ],
   "source": [
    "!pip install pandas"
   ]
  },
  {
   "cell_type": "code",
   "execution_count": 25,
   "metadata": {},
   "outputs": [
    {
     "name": "stdout",
     "output_type": "stream",
     "text": [
      "          X         Y         Z\n",
      "0  0.495060  0.047353  0.764360\n",
      "1  0.215719  0.997057  0.991461\n",
      "2  0.942370  0.730230  0.165350\n",
      "3  0.558972  0.619710  0.571747\n",
      "4  0.587556  0.727911  0.561227\n",
      "5  0.896503  0.726030  0.296210\n",
      "6  0.260927  0.648345  0.291372\n",
      "7  0.177953  0.743759  0.922127\n",
      "8  0.245077  0.492601  0.068972\n",
      "9  0.057429  0.065256  0.938035\n"
     ]
    }
   ],
   "source": [
    "# Create a data frame using ‘pandas’ that have 3 features ‘X’, ‘Y’ and ‘Z’ with random values.\n",
    "\n",
    "import pandas as pd\n",
    "import numpy as np\n",
    "\n",
    "# Specify the number of rows in the DataFrame\n",
    "num_rows = 10  # You can change this to any desired number\n",
    "\n",
    "# Generate random values for features X, Y, and Z\n",
    "random_data = {\n",
    "    'X': np.random.rand(num_rows),\n",
    "    'Y': np.random.rand(num_rows),\n",
    "    'Z': np.random.rand(num_rows)\n",
    "}\n",
    "\n",
    "# Create the DataFrame\n",
    "df = pd.DataFrame(random_data)\n",
    "\n",
    "print(df)\n"
   ]
  },
  {
   "cell_type": "code",
   "execution_count": 27,
   "metadata": {},
   "outputs": [
    {
     "name": "stdout",
     "output_type": "stream",
     "text": [
      "    name  age  average_score  is_ok\n",
      "0  Habib   25           85.5   True\n",
      "1  Mahdi   30           92.0   True\n",
      "2    Ali   22           78.3  False\n",
      "3    MMD   27           89.8   True\n",
      "<class 'pandas.core.frame.DataFrame'>\n"
     ]
    }
   ],
   "source": [
    "# Create a dictionary that has ‘name’, ‘age’ and ‘average_score’ features and also ‘is_ok’ label and then convert it to a pandas data frame.\n",
    "\n",
    "data = {\n",
    "    'name': ['Habib', 'Mahdi', 'Ali', 'MMD'],\n",
    "    'age': [25, 30, 22, 27],\n",
    "    'average_score': [85.5, 92.0, 78.3, 89.8],\n",
    "    'is_ok': [True, True, False, True]\n",
    "}\n",
    "\n",
    "df = pd.DataFrame(data)\n",
    "\n",
    "print(df)\n",
    "print(type(df))"
   ]
  },
  {
   "cell_type": "code",
   "execution_count": 28,
   "metadata": {},
   "outputs": [
    {
     "name": "stdout",
     "output_type": "stream",
     "text": [
      "   ID    Name  Age\n",
      "0   2  Vishal   22\n",
      "1   1  Kushal   25\n",
      "2   1    Aman   24\n"
     ]
    }
   ],
   "source": [
    "# Convert this 2D list to pandas data frame.\n",
    "# lists = [[2, 'Vishal', 22],\n",
    "# [1, 'Kushal', 25],\n",
    "# [1, 'Aman', 24]]\n",
    "\n",
    "lists = [\n",
    "    [2, 'Vishal', 22],\n",
    "    [1, 'Kushal', 25],\n",
    "    [1, 'Aman', 24]\n",
    "]\n",
    "\n",
    "df = pd.DataFrame(lists, columns=['ID', 'Name', 'Age'])\n",
    "\n",
    "print(df)"
   ]
  },
  {
   "cell_type": "code",
   "execution_count": 29,
   "metadata": {},
   "outputs": [
    {
     "name": "stdout",
     "output_type": "stream",
     "text": [
      "   gender   age  hypertension  heart_disease smoking_history    bmi  \\\n",
      "0  Female  80.0             0              1           never  25.19   \n",
      "1  Female  54.0             0              0         No Info  27.32   \n",
      "2    Male  28.0             0              0           never  27.32   \n",
      "3  Female  36.0             0              0         current  23.45   \n",
      "4    Male  76.0             1              1         current  20.14   \n",
      "\n",
      "   HbA1c_level  blood_glucose_level  diabetes  \n",
      "0          6.6                  140         0  \n",
      "1          6.6                   80         0  \n",
      "2          5.7                  158         0  \n",
      "3          5.0                  155         0  \n",
      "4          4.8                  155         0  \n"
     ]
    }
   ],
   "source": [
    "# Load ‘diabetes_prediction_dataset.csv’ and print the head of this data.\n",
    "\n",
    "df = pd.read_csv('diabetes_prediction_dataset.csv')\n",
    "\n",
    "print(df.head())"
   ]
  },
  {
   "cell_type": "code",
   "execution_count": 30,
   "metadata": {},
   "outputs": [
    {
     "name": "stdout",
     "output_type": "stream",
     "text": [
      "       gender    age  hypertension  heart_disease smoking_history    bmi  \\\n",
      "3742     Male   0.08             0              0         No Info  12.80   \n",
      "9683   Female   0.08             0              0         No Info  11.88   \n",
      "45073    Male   0.08             0              0         No Info  11.10   \n",
      "32402    Male   0.08             0              0         No Info  13.68   \n",
      "16028    Male   0.08             0              0         No Info  14.40   \n",
      "...       ...    ...           ...            ...             ...    ...   \n",
      "96250    Male  80.00             1              0          former  30.68   \n",
      "97521  Female  80.00             1              0           never  25.44   \n",
      "97607  Female  80.00             0              0           never  25.86   \n",
      "97833    Male  80.00             0              1            ever  28.77   \n",
      "99663    Male  80.00             0              0         No Info  34.00   \n",
      "\n",
      "       HbA1c_level  blood_glucose_level  diabetes  \n",
      "3742           6.6                   80         0  \n",
      "9683           5.7                   80         0  \n",
      "45073          6.1                   80         0  \n",
      "32402          5.0                   85         0  \n",
      "16028          6.0                   90         0  \n",
      "...            ...                  ...       ...  \n",
      "96250          5.7                  300         1  \n",
      "97521          6.2                  300         1  \n",
      "97607          9.0                  300         1  \n",
      "97833          6.2                  300         1  \n",
      "99663          9.0                  300         1  \n",
      "\n",
      "[100000 rows x 9 columns]\n"
     ]
    }
   ],
   "source": [
    "# Sort 4th question loaded data frame by ‘age’ and ‘blood_glucose_level’ features then print the result.\n",
    "\n",
    "df = pd.read_csv('diabetes_prediction_dataset.csv')\n",
    "\n",
    "sorted_df = df.sort_values(by=['age', 'blood_glucose_level'])\n",
    "\n",
    "print(sorted_df)"
   ]
  },
  {
   "cell_type": "code",
   "execution_count": 31,
   "metadata": {},
   "outputs": [
    {
     "name": "stdout",
     "output_type": "stream",
     "text": [
      "Mean BMI: 27.320767099999994\n",
      "Mode BMI: 0    27.32\n",
      "Name: bmi, dtype: float64\n",
      "Minimum BMI: 10.01\n",
      "Maximum BMI: 95.69\n"
     ]
    }
   ],
   "source": [
    "# Calculate the mean and mod and min and max of ‘bmi’ feature value of the 5th question result by aggregate functions of pandas data frames.\n",
    "\n",
    "mean_bmi = sorted_df['bmi'].mean()\n",
    "\n",
    "mode_bmi = sorted_df['bmi'].mode()\n",
    "\n",
    "min_bmi = sorted_df['bmi'].min()\n",
    "\n",
    "max_bmi = sorted_df['bmi'].max()\n",
    "\n",
    "print(\"Mean BMI:\", mean_bmi)\n",
    "print(\"Mode BMI:\", mode_bmi)\n",
    "print(\"Minimum BMI:\", min_bmi)\n",
    "print(\"Maximum BMI:\", max_bmi)"
   ]
  },
  {
   "cell_type": "markdown",
   "metadata": {},
   "source": [
    "# Confusion Matrix"
   ]
  },
  {
   "cell_type": "code",
   "execution_count": 40,
   "metadata": {},
   "outputs": [
    {
     "name": "stdout",
     "output_type": "stream",
     "text": [
      "Requirement already satisfied: scikit-learn in e:\\work\\neco\\ai\\venv\\lib\\site-packages (1.3.0)\n",
      "Collecting seaborn\n",
      "  Using cached seaborn-0.12.2-py3-none-any.whl (293 kB)\n",
      "Collecting matplotlib\n",
      "  Using cached matplotlib-3.7.2-cp310-cp310-win_amd64.whl (7.5 MB)\n",
      "Requirement already satisfied: scipy>=1.5.0 in e:\\work\\neco\\ai\\venv\\lib\\site-packages (from scikit-learn) (1.11.1)\n",
      "Requirement already satisfied: numpy>=1.17.3 in e:\\work\\neco\\ai\\venv\\lib\\site-packages (from scikit-learn) (1.25.2)\n",
      "Requirement already satisfied: threadpoolctl>=2.0.0 in e:\\work\\neco\\ai\\venv\\lib\\site-packages (from scikit-learn) (3.2.0)\n",
      "Requirement already satisfied: joblib>=1.1.1 in e:\\work\\neco\\ai\\venv\\lib\\site-packages (from scikit-learn) (1.3.1)\n",
      "Requirement already satisfied: pandas>=0.25 in e:\\work\\neco\\ai\\venv\\lib\\site-packages (from seaborn) (2.0.3)\n",
      "Collecting contourpy>=1.0.1\n",
      "  Using cached contourpy-1.1.0-cp310-cp310-win_amd64.whl (470 kB)\n",
      "Collecting pyparsing<3.1,>=2.3.1\n",
      "  Using cached pyparsing-3.0.9-py3-none-any.whl (98 kB)\n",
      "Collecting kiwisolver>=1.0.1\n",
      "  Using cached kiwisolver-1.4.4-cp310-cp310-win_amd64.whl (55 kB)\n",
      "Requirement already satisfied: python-dateutil>=2.7 in e:\\work\\neco\\ai\\venv\\lib\\site-packages (from matplotlib) (2.8.2)\n",
      "Collecting cycler>=0.10\n",
      "  Using cached cycler-0.11.0-py3-none-any.whl (6.4 kB)\n",
      "Collecting fonttools>=4.22.0\n",
      "  Downloading fonttools-4.42.0-cp310-cp310-win_amd64.whl (2.1 MB)\n",
      "     ---------------------------------------- 0.0/2.1 MB ? eta -:--:--\n",
      "     ---------------------------------------- 0.0/2.1 MB ? eta -:--:--\n",
      "     ---------------------------------------- 0.0/2.1 MB ? eta -:--:--\n",
      "     ---------------------------------------- 0.0/2.1 MB ? eta -:--:--\n",
      "     ---------------------------------------- 0.0/2.1 MB ? eta -:--:--\n",
      "     ---------------------------------------- 0.0/2.1 MB ? eta -:--:--\n",
      "     ---------------------------------------- 0.0/2.1 MB ? eta -:--:--\n",
      "     ---------------------------------------- 0.0/2.1 MB ? eta -:--:--\n",
      "     ---------------------------------------- 0.0/2.1 MB ? eta -:--:--\n",
      "     ---------------------------------------- 0.0/2.1 MB ? eta -:--:--\n",
      "     ---------------------------------------- 0.0/2.1 MB ? eta -:--:--\n",
      "      --------------------------------------- 0.0/2.1 MB 93.5 kB/s eta 0:00:23\n",
      "      --------------------------------------- 0.0/2.1 MB 93.5 kB/s eta 0:00:23\n",
      "      --------------------------------------- 0.0/2.1 MB 93.5 kB/s eta 0:00:23\n",
      "      --------------------------------------- 0.0/2.1 MB 93.5 kB/s eta 0:00:23\n",
      "      --------------------------------------- 0.0/2.1 MB 81.9 kB/s eta 0:00:26\n",
      "      --------------------------------------- 0.0/2.1 MB 81.9 kB/s eta 0:00:26\n",
      "      --------------------------------------- 0.0/2.1 MB 81.9 kB/s eta 0:00:26\n",
      "     - -------------------------------------- 0.1/2.1 MB 99.2 kB/s eta 0:00:21\n",
      "     - -------------------------------------- 0.1/2.1 MB 99.2 kB/s eta 0:00:21\n",
      "     - -------------------------------------- 0.1/2.1 MB 99.2 kB/s eta 0:00:21\n",
      "     - -------------------------------------- 0.1/2.1 MB 93.5 kB/s eta 0:00:22\n",
      "     - -------------------------------------- 0.1/2.1 MB 93.5 kB/s eta 0:00:22\n",
      "     - -------------------------------------- 0.1/2.1 MB 93.5 kB/s eta 0:00:22\n",
      "     - -------------------------------------- 0.1/2.1 MB 102.8 kB/s eta 0:00:20\n",
      "     - -------------------------------------- 0.1/2.1 MB 102.8 kB/s eta 0:00:20\n",
      "     - -------------------------------------- 0.1/2.1 MB 102.8 kB/s eta 0:00:20\n",
      "     - -------------------------------------- 0.1/2.1 MB 102.8 kB/s eta 0:00:20\n",
      "     - -------------------------------------- 0.1/2.1 MB 102.8 kB/s eta 0:00:20\n",
      "     -- ------------------------------------- 0.1/2.1 MB 99.2 kB/s eta 0:00:21\n",
      "     -- ------------------------------------- 0.1/2.1 MB 99.2 kB/s eta 0:00:21\n",
      "     -- ------------------------------------- 0.1/2.1 MB 97.4 kB/s eta 0:00:21\n",
      "     -- ------------------------------------- 0.1/2.1 MB 97.4 kB/s eta 0:00:21\n",
      "     -- ------------------------------------- 0.1/2.1 MB 97.4 kB/s eta 0:00:21\n",
      "     -- ------------------------------------- 0.1/2.1 MB 97.4 kB/s eta 0:00:21\n",
      "     -- ------------------------------------- 0.1/2.1 MB 97.4 kB/s eta 0:00:21\n",
      "     -- ------------------------------------- 0.1/2.1 MB 95.7 kB/s eta 0:00:21\n",
      "     -- ------------------------------------- 0.1/2.1 MB 95.7 kB/s eta 0:00:21\n",
      "     -- ------------------------------------- 0.1/2.1 MB 95.7 kB/s eta 0:00:21\n",
      "     -- ------------------------------------- 0.1/2.1 MB 95.7 kB/s eta 0:00:21\n",
      "     -- ------------------------------------- 0.1/2.1 MB 95.7 kB/s eta 0:00:21\n",
      "     -- ------------------------------------- 0.2/2.1 MB 89.0 kB/s eta 0:00:22\n",
      "     -- ------------------------------------- 0.2/2.1 MB 89.0 kB/s eta 0:00:22\n",
      "     -- ------------------------------------- 0.2/2.1 MB 89.0 kB/s eta 0:00:22\n",
      "     -- ------------------------------------- 0.2/2.1 MB 89.0 kB/s eta 0:00:22\n",
      "     --- ------------------------------------ 0.2/2.1 MB 91.9 kB/s eta 0:00:22\n",
      "     --- ------------------------------------ 0.2/2.1 MB 91.9 kB/s eta 0:00:22\n",
      "     --- ------------------------------------ 0.2/2.1 MB 91.9 kB/s eta 0:00:22\n",
      "     --- ------------------------------------ 0.2/2.1 MB 95.1 kB/s eta 0:00:21\n",
      "     --- ------------------------------------ 0.2/2.1 MB 95.1 kB/s eta 0:00:21\n",
      "     --- ------------------------------------ 0.2/2.1 MB 95.1 kB/s eta 0:00:21\n",
      "     --- ------------------------------------ 0.2/2.1 MB 93.6 kB/s eta 0:00:21\n",
      "     --- ------------------------------------ 0.2/2.1 MB 93.6 kB/s eta 0:00:21\n",
      "     --- ------------------------------------ 0.2/2.1 MB 93.6 kB/s eta 0:00:21\n",
      "     ---- ----------------------------------- 0.2/2.1 MB 98.3 kB/s eta 0:00:20\n",
      "     ---- ----------------------------------- 0.2/2.1 MB 98.3 kB/s eta 0:00:20\n",
      "     ---- ----------------------------------- 0.2/2.1 MB 98.3 kB/s eta 0:00:20\n",
      "     ---- ----------------------------------- 0.2/2.1 MB 95.5 kB/s eta 0:00:20\n",
      "     ---- ----------------------------------- 0.2/2.1 MB 95.5 kB/s eta 0:00:20\n",
      "     ---- ----------------------------------- 0.2/2.1 MB 95.5 kB/s eta 0:00:20\n",
      "     ---- ----------------------------------- 0.2/2.1 MB 95.5 kB/s eta 0:00:20\n",
      "     ---- ----------------------------------- 0.3/2.1 MB 97.1 kB/s eta 0:00:20\n",
      "     ----- ---------------------------------- 0.3/2.1 MB 103.2 kB/s eta 0:00:18\n",
      "     ----- ---------------------------------- 0.3/2.1 MB 103.2 kB/s eta 0:00:18\n",
      "     ----- ---------------------------------- 0.3/2.1 MB 103.2 kB/s eta 0:00:18\n",
      "     ----- ---------------------------------- 0.3/2.1 MB 103.2 kB/s eta 0:00:18\n",
      "     ----- ---------------------------------- 0.3/2.1 MB 100.5 kB/s eta 0:00:19\n",
      "     ----- ---------------------------------- 0.3/2.1 MB 100.5 kB/s eta 0:00:19\n",
      "     ----- ---------------------------------- 0.3/2.1 MB 100.5 kB/s eta 0:00:19\n",
      "     ----- ---------------------------------- 0.3/2.1 MB 100.5 kB/s eta 0:00:19\n",
      "     ----- ---------------------------------- 0.3/2.1 MB 101.1 kB/s eta 0:00:18\n",
      "     ----- ---------------------------------- 0.3/2.1 MB 101.1 kB/s eta 0:00:18\n",
      "     ------ --------------------------------- 0.3/2.1 MB 101.3 kB/s eta 0:00:18\n",
      "     ------ --------------------------------- 0.3/2.1 MB 101.3 kB/s eta 0:00:18\n",
      "     ------ --------------------------------- 0.3/2.1 MB 104.3 kB/s eta 0:00:18\n",
      "     ------ --------------------------------- 0.3/2.1 MB 104.3 kB/s eta 0:00:18\n",
      "     ------ --------------------------------- 0.4/2.1 MB 107.6 kB/s eta 0:00:17\n",
      "     ------ --------------------------------- 0.4/2.1 MB 109.2 kB/s eta 0:00:16\n",
      "     ------ --------------------------------- 0.4/2.1 MB 109.2 kB/s eta 0:00:16\n",
      "     ------ --------------------------------- 0.4/2.1 MB 109.2 kB/s eta 0:00:16\n",
      "     ------- -------------------------------- 0.4/2.1 MB 111.2 kB/s eta 0:00:16\n",
      "     ------- -------------------------------- 0.4/2.1 MB 111.2 kB/s eta 0:00:16\n",
      "     ------- -------------------------------- 0.4/2.1 MB 111.2 kB/s eta 0:00:16\n",
      "     ------- -------------------------------- 0.4/2.1 MB 111.2 kB/s eta 0:00:16\n",
      "     ------- -------------------------------- 0.4/2.1 MB 112.1 kB/s eta 0:00:16\n",
      "     ------- -------------------------------- 0.4/2.1 MB 112.1 kB/s eta 0:00:16\n",
      "     -------- ------------------------------- 0.4/2.1 MB 114.3 kB/s eta 0:00:15\n",
      "     -------- ------------------------------- 0.4/2.1 MB 114.3 kB/s eta 0:00:15\n",
      "     -------- ------------------------------- 0.5/2.1 MB 116.4 kB/s eta 0:00:15\n",
      "     -------- ------------------------------- 0.5/2.1 MB 117.7 kB/s eta 0:00:15\n",
      "     -------- ------------------------------- 0.5/2.1 MB 117.7 kB/s eta 0:00:15\n",
      "     --------- ------------------------------ 0.5/2.1 MB 120.6 kB/s eta 0:00:14\n",
      "     --------- ------------------------------ 0.5/2.1 MB 120.6 kB/s eta 0:00:14\n",
      "     --------- ------------------------------ 0.5/2.1 MB 120.8 kB/s eta 0:00:14\n",
      "     --------- ------------------------------ 0.5/2.1 MB 120.8 kB/s eta 0:00:14\n",
      "     --------- ------------------------------ 0.5/2.1 MB 122.6 kB/s eta 0:00:14\n",
      "     --------- ------------------------------ 0.5/2.1 MB 122.6 kB/s eta 0:00:14\n",
      "     ---------- ----------------------------- 0.5/2.1 MB 125.2 kB/s eta 0:00:13\n",
      "     ---------- ----------------------------- 0.5/2.1 MB 125.3 kB/s eta 0:00:13\n",
      "     ---------- ----------------------------- 0.5/2.1 MB 125.3 kB/s eta 0:00:13\n",
      "     ---------- ----------------------------- 0.6/2.1 MB 128.2 kB/s eta 0:00:13\n",
      "     ---------- ----------------------------- 0.6/2.1 MB 128.2 kB/s eta 0:00:13\n",
      "     ---------- ----------------------------- 0.6/2.1 MB 127.8 kB/s eta 0:00:13\n",
      "     ----------- ---------------------------- 0.6/2.1 MB 130.1 kB/s eta 0:00:12\n",
      "     ----------- ---------------------------- 0.6/2.1 MB 130.1 kB/s eta 0:00:12\n",
      "     ----------- ---------------------------- 0.6/2.1 MB 132.4 kB/s eta 0:00:12\n",
      "     ----------- ---------------------------- 0.6/2.1 MB 132.4 kB/s eta 0:00:12\n",
      "     ----------- ---------------------------- 0.6/2.1 MB 132.4 kB/s eta 0:00:12\n",
      "     ----------- ---------------------------- 0.6/2.1 MB 132.4 kB/s eta 0:00:12\n",
      "     ------------ --------------------------- 0.6/2.1 MB 133.7 kB/s eta 0:00:11\n",
      "     ------------ --------------------------- 0.7/2.1 MB 134.9 kB/s eta 0:00:11\n",
      "     ------------ --------------------------- 0.7/2.1 MB 134.9 kB/s eta 0:00:11\n",
      "     ------------ --------------------------- 0.7/2.1 MB 136.5 kB/s eta 0:00:11\n",
      "     ------------- -------------------------- 0.7/2.1 MB 139.4 kB/s eta 0:00:11\n",
      "     ------------- -------------------------- 0.7/2.1 MB 139.4 kB/s eta 0:00:11\n",
      "     ------------- -------------------------- 0.7/2.1 MB 138.8 kB/s eta 0:00:11\n",
      "     ------------- -------------------------- 0.7/2.1 MB 141.1 kB/s eta 0:00:10\n",
      "     ------------- -------------------------- 0.7/2.1 MB 141.1 kB/s eta 0:00:10\n",
      "     ------------- -------------------------- 0.7/2.1 MB 140.6 kB/s eta 0:00:10\n",
      "     ------------- -------------------------- 0.7/2.1 MB 140.6 kB/s eta 0:00:10\n",
      "     -------------- ------------------------- 0.8/2.1 MB 142.0 kB/s eta 0:00:10\n",
      "     -------------- ------------------------- 0.8/2.1 MB 145.4 kB/s eta 0:00:10\n",
      "     -------------- ------------------------- 0.8/2.1 MB 145.2 kB/s eta 0:00:10\n",
      "     -------------- ------------------------- 0.8/2.1 MB 145.2 kB/s eta 0:00:10\n",
      "     --------------- ------------------------ 0.8/2.1 MB 146.4 kB/s eta 0:00:09\n",
      "     --------------- ------------------------ 0.8/2.1 MB 147.5 kB/s eta 0:00:09\n",
      "     --------------- ------------------------ 0.8/2.1 MB 147.5 kB/s eta 0:00:09\n",
      "     --------------- ------------------------ 0.8/2.1 MB 148.7 kB/s eta 0:00:09\n",
      "     ---------------- ----------------------- 0.9/2.1 MB 151.1 kB/s eta 0:00:09\n",
      "     ---------------- ----------------------- 0.9/2.1 MB 151.1 kB/s eta 0:00:09\n",
      "     ---------------- ----------------------- 0.9/2.1 MB 150.4 kB/s eta 0:00:09\n",
      "     ---------------- ----------------------- 0.9/2.1 MB 152.7 kB/s eta 0:00:08\n",
      "     ---------------- ----------------------- 0.9/2.1 MB 152.7 kB/s eta 0:00:08\n",
      "     ----------------- ---------------------- 0.9/2.1 MB 152.4 kB/s eta 0:00:08\n",
      "     ----------------- ---------------------- 0.9/2.1 MB 157.4 kB/s eta 0:00:08\n",
      "     ----------------- ---------------------- 0.9/2.1 MB 157.4 kB/s eta 0:00:08\n",
      "     ------------------ --------------------- 1.0/2.1 MB 157.0 kB/s eta 0:00:08\n",
      "     ------------------ --------------------- 1.0/2.1 MB 158.8 kB/s eta 0:00:08\n",
      "     ------------------ --------------------- 1.0/2.1 MB 159.6 kB/s eta 0:00:08\n",
      "     ------------------ --------------------- 1.0/2.1 MB 160.1 kB/s eta 0:00:07\n",
      "     ------------------- -------------------- 1.0/2.1 MB 161.8 kB/s eta 0:00:07\n",
      "     ------------------- -------------------- 1.0/2.1 MB 161.8 kB/s eta 0:00:07\n",
      "     ------------------- -------------------- 1.0/2.1 MB 164.2 kB/s eta 0:00:07\n",
      "     ------------------- -------------------- 1.0/2.1 MB 164.2 kB/s eta 0:00:07\n",
      "     -------------------- ------------------- 1.1/2.1 MB 165.4 kB/s eta 0:00:07\n",
      "     -------------------- ------------------- 1.1/2.1 MB 165.4 kB/s eta 0:00:07\n",
      "     -------------------- ------------------- 1.1/2.1 MB 167.4 kB/s eta 0:00:07\n",
      "     -------------------- ------------------- 1.1/2.1 MB 167.4 kB/s eta 0:00:07\n",
      "     -------------------- ------------------- 1.1/2.1 MB 167.7 kB/s eta 0:00:06\n",
      "     --------------------- ------------------ 1.1/2.1 MB 168.9 kB/s eta 0:00:06\n",
      "     --------------------- ------------------ 1.1/2.1 MB 171.2 kB/s eta 0:00:06\n",
      "     --------------------- ------------------ 1.2/2.1 MB 171.1 kB/s eta 0:00:06\n",
      "     ---------------------- ----------------- 1.2/2.1 MB 173.3 kB/s eta 0:00:06\n",
      "     ---------------------- ----------------- 1.2/2.1 MB 173.3 kB/s eta 0:00:06\n",
      "     ---------------------- ----------------- 1.2/2.1 MB 175.1 kB/s eta 0:00:06\n",
      "     ----------------------- ---------------- 1.2/2.1 MB 176.4 kB/s eta 0:00:06\n",
      "     ----------------------- ---------------- 1.2/2.1 MB 176.7 kB/s eta 0:00:05\n",
      "     ----------------------- ---------------- 1.2/2.1 MB 176.7 kB/s eta 0:00:05\n",
      "     ----------------------- ---------------- 1.3/2.1 MB 178.5 kB/s eta 0:00:05\n",
      "     ------------------------ --------------- 1.3/2.1 MB 178.7 kB/s eta 0:00:05\n",
      "     ------------------------ --------------- 1.3/2.1 MB 181.5 kB/s eta 0:00:05\n",
      "     ------------------------ --------------- 1.3/2.1 MB 181.7 kB/s eta 0:00:05\n",
      "     ------------------------- -------------- 1.3/2.1 MB 183.0 kB/s eta 0:00:05\n",
      "     ------------------------- -------------- 1.4/2.1 MB 184.6 kB/s eta 0:00:05\n",
      "     ------------------------- -------------- 1.4/2.1 MB 184.8 kB/s eta 0:00:05\n",
      "     -------------------------- ------------- 1.4/2.1 MB 186.4 kB/s eta 0:00:04\n",
      "     -------------------------- ------------- 1.4/2.1 MB 186.6 kB/s eta 0:00:04\n",
      "     -------------------------- ------------- 1.4/2.1 MB 188.2 kB/s eta 0:00:04\n",
      "     --------------------------- ------------ 1.4/2.1 MB 190.2 kB/s eta 0:00:04\n",
      "     --------------------------- ------------ 1.4/2.1 MB 190.2 kB/s eta 0:00:04\n",
      "     --------------------------- ------------ 1.5/2.1 MB 191.5 kB/s eta 0:00:04\n",
      "     --------------------------- ------------ 1.5/2.1 MB 192.0 kB/s eta 0:00:04\n",
      "     ---------------------------- ----------- 1.5/2.1 MB 193.1 kB/s eta 0:00:04\n",
      "     ---------------------------- ----------- 1.5/2.1 MB 193.1 kB/s eta 0:00:04\n",
      "     ---------------------------- ----------- 1.5/2.1 MB 193.1 kB/s eta 0:00:04\n",
      "     ---------------------------- ----------- 1.5/2.1 MB 193.1 kB/s eta 0:00:04\n",
      "     ---------------------------- ----------- 1.5/2.1 MB 193.1 kB/s eta 0:00:04\n",
      "     ---------------------------- ----------- 1.5/2.1 MB 193.1 kB/s eta 0:00:04\n",
      "     ---------------------------- ----------- 1.5/2.1 MB 193.1 kB/s eta 0:00:04\n",
      "     ----------------------------- ---------- 1.5/2.1 MB 192.4 kB/s eta 0:00:03\n",
      "     ----------------------------- ---------- 1.6/2.1 MB 192.5 kB/s eta 0:00:03\n",
      "     ------------------------------ --------- 1.6/2.1 MB 200.7 kB/s eta 0:00:03\n",
      "     ------------------------------- -------- 1.6/2.1 MB 200.4 kB/s eta 0:00:03\n",
      "     ------------------------------- -------- 1.7/2.1 MB 202.1 kB/s eta 0:00:03\n",
      "     ------------------------------- -------- 1.7/2.1 MB 203.5 kB/s eta 0:00:03\n",
      "     -------------------------------- ------- 1.7/2.1 MB 203.2 kB/s eta 0:00:03\n",
      "     -------------------------------- ------- 1.7/2.1 MB 205.7 kB/s eta 0:00:02\n",
      "     -------------------------------- ------- 1.7/2.1 MB 207.4 kB/s eta 0:00:02\n",
      "     --------------------------------- ------ 1.8/2.1 MB 208.3 kB/s eta 0:00:02\n",
      "     --------------------------------- ------ 1.8/2.1 MB 210.0 kB/s eta 0:00:02\n",
      "     ---------------------------------- ----- 1.8/2.1 MB 210.8 kB/s eta 0:00:02\n",
      "     ---------------------------------- ----- 1.8/2.1 MB 211.7 kB/s eta 0:00:02\n",
      "     ---------------------------------- ----- 1.8/2.1 MB 213.3 kB/s eta 0:00:02\n",
      "     ----------------------------------- ---- 1.9/2.1 MB 215.3 kB/s eta 0:00:02\n",
      "     ----------------------------------- ---- 1.9/2.1 MB 215.3 kB/s eta 0:00:02\n",
      "     ------------------------------------ --- 1.9/2.1 MB 216.5 kB/s eta 0:00:01\n",
      "     ------------------------------------ --- 1.9/2.1 MB 216.9 kB/s eta 0:00:01\n",
      "     ------------------------------------ --- 1.9/2.1 MB 218.8 kB/s eta 0:00:01\n",
      "     ------------------------------------- -- 2.0/2.1 MB 220.0 kB/s eta 0:00:01\n",
      "     ------------------------------------- -- 2.0/2.1 MB 221.1 kB/s eta 0:00:01\n",
      "     ------------------------------------- -- 2.0/2.1 MB 221.5 kB/s eta 0:00:01\n",
      "     -------------------------------------- - 2.0/2.1 MB 223.3 kB/s eta 0:00:01\n",
      "     -------------------------------------- - 2.0/2.1 MB 224.8 kB/s eta 0:00:01\n",
      "     ---------------------------------------  2.1/2.1 MB 225.6 kB/s eta 0:00:01\n",
      "     ---------------------------------------  2.1/2.1 MB 225.9 kB/s eta 0:00:01\n",
      "     ---------------------------------------- 2.1/2.1 MB 228.3 kB/s eta 0:00:00\n",
      "Collecting pillow>=6.2.0\n",
      "  Using cached Pillow-10.0.0-cp310-cp310-win_amd64.whl (2.5 MB)\n",
      "Requirement already satisfied: packaging>=20.0 in e:\\work\\neco\\ai\\venv\\lib\\site-packages (from matplotlib) (23.1)\n",
      "Requirement already satisfied: tzdata>=2022.1 in e:\\work\\neco\\ai\\venv\\lib\\site-packages (from pandas>=0.25->seaborn) (2023.3)\n",
      "Requirement already satisfied: pytz>=2020.1 in e:\\work\\neco\\ai\\venv\\lib\\site-packages (from pandas>=0.25->seaborn) (2023.3)\n",
      "Requirement already satisfied: six>=1.5 in e:\\work\\neco\\ai\\venv\\lib\\site-packages (from python-dateutil>=2.7->matplotlib) (1.16.0)\n",
      "Installing collected packages: pyparsing, pillow, kiwisolver, fonttools, cycler, contourpy, matplotlib, seaborn\n",
      "Successfully installed contourpy-1.1.0 cycler-0.11.0 fonttools-4.42.0 kiwisolver-1.4.4 matplotlib-3.7.2 pillow-10.0.0 pyparsing-3.0.9 seaborn-0.12.2\n"
     ]
    },
    {
     "name": "stderr",
     "output_type": "stream",
     "text": [
      "\n",
      "[notice] A new release of pip is available: 23.0.1 -> 23.2.1\n",
      "[notice] To update, run: python.exe -m pip install --upgrade pip\n"
     ]
    }
   ],
   "source": [
    "!pip install scikit-learn seaborn matplotlib"
   ]
  },
  {
   "cell_type": "code",
   "execution_count": 41,
   "metadata": {},
   "outputs": [
    {
     "data": {
      "image/png": "[encoded data removed]",
      "text/plain": [
       "<Figure size 640x480 with 1 Axes>"
      ]
     },
     "metadata": {},
     "output_type": "display_data"
    }
   ],
   "source": [
    "# Create confusion matrix using given data.\n",
    "# actual = numpy.random.binomial(1, 0.9, size = 1000)\n",
    "# predicted = numpy.random.binomial(1, 0.9, size = 1000)\n",
    "\n",
    "import numpy as np\n",
    "import matplotlib.pyplot as plt\n",
    "import seaborn as sns\n",
    "from sklearn.metrics import confusion_matrix\n",
    "\n",
    "# Generate the actual and predicted data\n",
    "actual = np.random.binomial(1, 0.9, size=1000)\n",
    "predicted = np.random.binomial(1, 0.9, size=1000)\n",
    "\n",
    "# Create the confusion matrix\n",
    "conf_matrix = confusion_matrix(actual, predicted)\n",
    "\n",
    "# Plot the confusion matrix using seaborn heatmap\n",
    "sns.heatmap(conf_matrix, annot=True, fmt='d', cmap='Blues', cbar=False,\n",
    "            xticklabels=['Predicted Negative', 'Predicted Positive'],\n",
    "            yticklabels=['Actual Negative', 'Actual Positive'])\n",
    "\n",
    "plt.xlabel('Predicted Label')\n",
    "plt.ylabel('True Label')\n",
    "plt.title('Confusion Matrix')\n",
    "\n",
    "plt.show()"
   ]
  },
  {
   "cell_type": "markdown",
   "metadata": {},
   "source": [
    "# Regression"
   ]
  },
  {
   "cell_type": "code",
   "execution_count": 44,
   "metadata": {},
   "outputs": [
    {
     "data": {
      "image/png": "[encoded data removed]",
      "text/plain": [
       "<Figure size 640x480 with 1 Axes>"
      ]
     },
     "metadata": {},
     "output_type": "display_data"
    }
   ],
   "source": [
    "# Draw an scatter plot using matplotlib in python and show the Linear Regression of given data.\n",
    "# x = [5,7,8,7,2,17,2,9,4,11,12,9,6]\n",
    "# y = [99,86,87,88,111,86,103,87,94,78,77,85,86]\n",
    "\n",
    "import numpy as np\n",
    "import matplotlib.pyplot as plt\n",
    "\n",
    "# Given data\n",
    "x = [5, 7, 8, 7, 2, 17, 2, 9, 4, 11, 12, 9, 6]\n",
    "y = [99, 86, 87, 88, 111, 86, 103, 87, 94, 78, 77, 85, 86]\n",
    "\n",
    "# Convert 'x' to a NumPy array\n",
    "x = np.array(x)\n",
    "\n",
    "# Calculate the linear regression line\n",
    "coefficients = np.polyfit(x, y, 1)\n",
    "m, b = coefficients\n",
    "\n",
    "# Create the scatter plot\n",
    "plt.scatter(x, y, color='blue', label='Data Points')\n",
    "plt.plot(x, m*x + b, color='red', label='Linear Regression')\n",
    "\n",
    "plt.xlabel('X')\n",
    "plt.ylabel('Y')\n",
    "plt.title('Scatter Plot with Linear Regression')\n",
    "plt.legend()\n",
    "plt.grid(True)\n",
    "plt.show()"
   ]
  },
  {
   "cell_type": "markdown",
   "metadata": {},
   "source": [
    "# Final Project\n",
    "\n",
    "## In this project you are going to learn and practice topics such as:\n",
    "✓ Numpy\n",
    "✓ Pandas\n",
    "✓ Confusion Matrix\n",
    "✓ Normalization\n",
    "✓ Training\n",
    "✓ Testing\n",
    "✓ Train Test Data\n",
    "✓ Cross Validation\n",
    "\n",
    "## Question:\n",
    "Try to create a Perceptron model and then train it using\n",
    "‘diabetes_prediction_dataset.csv’ data and finally test it. At the end you must\n",
    "do Cross Validation on this model and then draw the Confusion Matrix using\n",
    "results of predictions\n",
    "\n",
    "\n",
    "### Som hints:\n",
    "* First of all you must normalize and also digitize your data. If you couldn’t\n",
    "do that, then use the ‘normalized_data.csv’ data.\n",
    "* For creating perceptron model you can use this code:\n",
    "  - from sklearn.linear_model import Perceptron\n",
    "  - perceptron = Perceptron()\n",
    "* For training model you can user this code:\n",
    "  - perceptron.fit(X_train, y_train)\n",
    "* For Testing your model you can use this code:\n",
    "  - y_pred = perceptron.predict(X_test)\n",
    "* For doing Cross Validation you can use this code:\n",
    "  - from sklearn.model_selection import cross_val_score\n",
    "  - cv_scores = cross_val_score(model_name, X_data, y_data,\n",
    "cv=cross_validation_folds)"
   ]
  },
  {
   "cell_type": "code",
   "execution_count": 45,
   "metadata": {},
   "outputs": [
    {
     "name": "stdout",
     "output_type": "stream",
     "text": [
      "Accuracy: 0.9233790523690774\n",
      "Cross-Validation Scores: [0.93385287 0.95735661 0.93023256 0.94931105 0.95168028]\n",
      "Average Cross-Validation Score: 0.9444866736146105\n"
     ]
    },
    {
     "data": {
      "image/png": "[encoded data removed]",
      "text/plain": [
       "<Figure size 600x400 with 2 Axes>"
      ]
     },
     "metadata": {},
     "output_type": "display_data"
    }
   ],
   "source": [
    "from sklearn.model_selection import train_test_split, cross_val_score\n",
    "from sklearn.linear_model import Perceptron\n",
    "from sklearn.metrics import accuracy_score, confusion_matrix\n",
    "import matplotlib.pyplot as plt\n",
    "import pandas as pd\n",
    "import seaborn as sns\n",
    "\n",
    "# Data\n",
    "# gender,age,hypertension,heart_disease,smoking_history,bmi,HbA1c_level,blood_glucose_level,diabetes\n",
    "# Female,80.0,0,1,never,25.19,6.6,140,0\n",
    "\n",
    "# Load Data\n",
    "dataset = pd.read_csv('diabetes_prediction_dataset.csv')\n",
    "\n",
    "# Digitize and Normalize Data\n",
    "gender_mapping = {'Male': 0, 'Female': 1, 'Other': 2}\n",
    "smoking_history_mapping = {'never': 0, 'No Info': 1, 'current': 2}\n",
    "\n",
    "dataset['gender'] = dataset['gender'].map(gender_mapping)\n",
    "dataset['smoking_history'] = dataset['smoking_history'].map(smoking_history_mapping)\n",
    "\n",
    "dataset.to_csv('normalized_data.csv', index=False)\n",
    "\n",
    "# Some NaN errors deleting\n",
    "dataset.dropna(inplace=True)\n",
    "\n",
    "# Split Data\n",
    "X = dataset.drop('diabetes', axis=1)\n",
    "y = dataset['diabetes']\n",
    "\n",
    "# Determine Train and Test Data\n",
    "X_train, X_test, y_train, y_test = train_test_split(X, y, test_size=0.2, random_state=42)\n",
    "\n",
    "# Perceptron Stuffs\n",
    "perceptron = Perceptron()\n",
    "perceptron.fit(X_train, y_train)\n",
    "\n",
    "y_pred = perceptron.predict(X_test)\n",
    "\n",
    "accuracy = accuracy_score(y_test, y_pred)\n",
    "print(\"Accuracy:\", accuracy)\n",
    "\n",
    "# Cross-Validation\n",
    "cross_validation_folds = int(input('Cross Validation Folds: '))\n",
    "cv_scores = cross_val_score(perceptron, X, y, cv=cross_validation_folds)\n",
    "avg_cv_score = cv_scores.mean()\n",
    "\n",
    "print(\"Cross-Validation Scores:\", cv_scores)\n",
    "print(\"Average Cross-Validation Score:\", avg_cv_score)\n",
    "\n",
    "# Draw Confusion Matrix\n",
    "cm = confusion_matrix(y_test, y_pred)\n",
    "\n",
    "plt.figure(figsize=(6, 4))\n",
    "sns.heatmap(cm, annot=True, fmt='d', cmap='Greens')\n",
    "plt.xlabel('Predicted labels')\n",
    "plt.ylabel('True labels')\n",
    "plt.title('Confusion Matrix')\n",
    "plt.show()"
   ]
  }
 ],
 "metadata": {
  "kernelspec": {
   "display_name": "venv",
   "language": "python",
   "name": "python3"
  },
  "language_info": {
   "codemirror_mode": {
    "name": "ipython",
    "version": 3
   },
   "file_extension": ".py",
   "mimetype": "text/x-python",
   "name": "python",
   "nbconvert_exporter": "python",
   "pygments_lexer": "ipython3",
   "version": "3.10.11"
  },
  "orig_nbformat": 4
 },
 "nbformat": 4,
 "nbformat_minor": 2
}
